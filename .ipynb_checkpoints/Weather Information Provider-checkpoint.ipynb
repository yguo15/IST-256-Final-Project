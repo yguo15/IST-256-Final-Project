{
 "cells": [
  {
   "cell_type": "code",
   "execution_count": 6,
   "metadata": {
    "collapsed": false
   },
   "outputs": [
    {
     "name": "stdout",
     "output_type": "stream",
     "text": [
      "Your weather information has been svaed successfully.\n"
     ]
    }
   ],
   "source": [
    "import requests\n",
    "import random\n",
    "import time\n",
    "import csv\n",
    "import socket\n",
    "import http.client\n",
    "from bs4 import BeautifulSoup\n",
    "\n",
    "def get_content(url , data = None):\n",
    "    header={\n",
    "        'Accept': 'text/html,application/xhtml+xml,application/xml;q=0.9,image/webp,*/*;q=0.8',\n",
    "        'Accept-Encoding': 'gzip, deflate, sdch',\n",
    "        'Accept-Language': 'zh-CN,zh;q=0.8',\n",
    "        'Connection': 'keep-alive',\n",
    "        'User-Agent': 'Mozilla/5.0 (Windows NT 6.3; WOW64) AppleWebKit/537.36 (KHTML, like Gecko) Chrome/43.0.235'\n",
    "    }\n",
    "    timeout = random.choice(range(80, 180))\n",
    "    while True:\n",
    "        try:\n",
    "            rep = requests.get(url,headers = header,timeout = timeout)\n",
    "            rep.encoding = 'utf-8'\n",
    "            # req = urllib.request.Request(url, data, header)\n",
    "            # response = urllib.request.urlopen(req, timeout=timeout)\n",
    "            # html1 = response.read().decode('UTF-8', errors='ignore')\n",
    "            # response.close()\n",
    "            break\n",
    "        # except urllib.request.HTTPError as e:\n",
    "        #         print( '1:', e)\n",
    "        #         time.sleep(random.choice(range(5, 10)))\n",
    "        #\n",
    "        # except urllib.request.URLError as e:\n",
    "        #     print( '2:', e)\n",
    "        #     time.sleep(random.choice(range(5, 10)))\n",
    "        except socket.timeout as e:\n",
    "            print( '3:', e)\n",
    "            time.sleep(random.choice(range(8,15)))\n",
    "\n",
    "        except socket.error as e:\n",
    "            print( '4:', e)\n",
    "            time.sleep(random.choice(range(20, 60)))\n",
    "\n",
    "        except http.client.BadStatusLine as e:\n",
    "            print( '5:', e)\n",
    "            time.sleep(random.choice(range(30, 80)))\n",
    "\n",
    "        except http.client.IncompleteRead as e:\n",
    "            print( '6:', e)\n",
    "            time.sleep(random.choice(range(5, 15)))\n",
    "\n",
    "    return rep.text\n",
    "    # return html_text\n",
    "    \n",
    "def get_data(html_text):\n",
    "    final = []\n",
    "    bs = BeautifulSoup(html_text, \"html.parser\")  # creat a beautifulSoup subject \n",
    "    body = bs.body # get body\n",
    "    data = body.find('div', {'id': '7d'})  # find a div id=7d\n",
    "    ul = data.find('ul')  # get ul\n",
    "    li = ul.find_all('li')  # get all li\n",
    "\n",
    "    for day in li: \n",
    "        temp = []\n",
    "        date = day.find('h1').string  # find dates\n",
    "        temp.append(date)  # add dates to temp\n",
    "        inf = day.find_all('p')  \n",
    "        temp.append(inf[0].string,)  # add weather information to temp\n",
    "        if inf[1].find('span') is None: # assume there is no highest temperature\n",
    "            temperature_highest = None \n",
    "        else:\n",
    "            temperature_highest = inf[1].find('span').string  # find the highest temperature\n",
    "            temperature_highest = temperature_highest.replace('℃', '')  \n",
    "        temperature_lowest = inf[1].find('i').string  # find the lowest temperature\n",
    "        temperature_lowest = temperature_lowest.replace('℃', '')\n",
    "        temp.append(temperature_highest)   # add the highest temperature to temp\n",
    "        temp.append(temperature_lowest)   #add the lowest temperature to temp\n",
    "        final.append(temp)   # add temp to final\n",
    "\n",
    "    return final\n",
    "\n",
    "def write_data(data, name):\n",
    "    file_name = name\n",
    "    with open(file_name, 'a', errors='ignore', newline='') as f:\n",
    "        f_csv = csv.writer(f)\n",
    "        f_csv.writerows(data)\n",
    "            \n",
    "if __name__ == '__main__':\n",
    "    url ='http://www.weather.com.cn/weather/101190401.shtml'\n",
    "    html = get_content(url)\n",
    "    result = get_data(html)\n",
    "    write_data(result, 'weather.csv')\n",
    "\n",
    "print('Your weather information has been svaed successfully.')\n",
    "\n"
   ]
  },
  {
   "cell_type": "code",
   "execution_count": null,
   "metadata": {
    "collapsed": false
   },
   "outputs": [],
   "source": []
  },
  {
   "cell_type": "code",
   "execution_count": null,
   "metadata": {
    "collapsed": false
   },
   "outputs": [],
   "source": []
  },
  {
   "cell_type": "code",
   "execution_count": null,
   "metadata": {
    "collapsed": false
   },
   "outputs": [],
   "source": []
  },
  {
   "cell_type": "code",
   "execution_count": null,
   "metadata": {
    "collapsed": false
   },
   "outputs": [],
   "source": []
  },
  {
   "cell_type": "code",
   "execution_count": null,
   "metadata": {
    "collapsed": true
   },
   "outputs": [],
   "source": []
  }
 ],
 "metadata": {
  "kernelspec": {
   "display_name": "Python 3",
   "language": "python",
   "name": "python3"
  },
  "language_info": {
   "codemirror_mode": {
    "name": "ipython",
    "version": 3
   },
   "file_extension": ".py",
   "mimetype": "text/x-python",
   "name": "python",
   "nbconvert_exporter": "python",
   "pygments_lexer": "ipython3",
   "version": "3.5.2"
  }
 },
 "nbformat": 4,
 "nbformat_minor": 2
}
